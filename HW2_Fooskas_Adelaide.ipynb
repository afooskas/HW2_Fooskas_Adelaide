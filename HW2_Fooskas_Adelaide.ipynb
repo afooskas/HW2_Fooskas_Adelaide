{
 "cells": [
  {
   "cell_type": "code",
   "execution_count": 2,
   "id": "a202bedd",
   "metadata": {},
   "outputs": [
    {
     "name": "stdout",
     "output_type": "stream",
     "text": [
      "0\n",
      "1\n",
      "2\n",
      "3\n",
      "4\n"
     ]
    }
   ],
   "source": [
    "n=0\n",
    "while n<10:\n",
    "    print(n)\n",
    "    n=n+1\n",
    "    if n==5:\n",
    "        break"
   ]
  },
  {
   "cell_type": "code",
   "execution_count": 4,
   "id": "f405df06",
   "metadata": {
    "scrolled": true
   },
   "outputs": [
    {
     "name": "stdout",
     "output_type": "stream",
     "text": [
      "0\n",
      "1\n",
      "2\n",
      "3\n",
      "4\n",
      "5 is not less then 5\n"
     ]
    }
   ],
   "source": [
    "n=0\n",
    "while n<5:\n",
    "    print(n)\n",
    "    n=n+1\n",
    "else:\n",
    "    print (n, \"is not less then 5\")"
   ]
  },
  {
   "cell_type": "code",
   "execution_count": 8,
   "id": "3d458deb",
   "metadata": {
    "scrolled": true
   },
   "outputs": [
    {
     "name": "stdout",
     "output_type": "stream",
     "text": [
      "I like banana\n",
      "I like orange\n",
      "I like lemon\n",
      "I like lime\n",
      "apple is really a fruit?\n"
     ]
    }
   ],
   "source": [
    "fruits_name=[\"banana\", \"orange\", \"lemon\", \"lime\", \"apple\", \"pear\"]\n",
    "for fruit in fruits_name:\n",
    "    if fruit==\"apple\":\n",
    "        print(fruit, \"is really a fruit?\"\")\n",
    "        break\n",
    "    print(\"I like\", fruit)"
   ]
  },
  {
   "cell_type": "code",
   "execution_count": 41,
   "id": "0ca4c1f3",
   "metadata": {},
   "outputs": [
    {
     "name": "stdout",
     "output_type": "stream",
     "text": [
      "the sum is 465\n"
     ]
    }
   ],
   "source": [
    "n=1\n",
    "sum=0\n",
    "while n<=30:\n",
    "    sum=sum+n\n",
    "    n=n+1\n",
    "print(\"the sum is\", sum)\n"
   ]
  },
  {
   "cell_type": "code",
   "execution_count": 12,
   "id": "51d30339",
   "metadata": {},
   "outputs": [
    {
     "name": "stdout",
     "output_type": "stream",
     "text": [
      "80 is a B\n"
     ]
    }
   ],
   "source": [
    "grade=80\n",
    "if grade >100:\n",
    "    print (grade, \"extra credit\")\n",
    "elif grade >= 90:\n",
    "    print(grade, \"is an A\")\n",
    "elif grade >= 80:\n",
    "    print(grade, \"is a B\")\n",
    "elif grade >= 70:\n",
    "    print(grade, \"is a C\")\n",
    "elif grade >= 60:\n",
    "    print(grade, \"is a D\")\n",
    "else:\n",
    "    print(grade, \"is a F\")"
   ]
  },
  {
   "cell_type": "code",
   "execution_count": 19,
   "id": "fd8cdbcf",
   "metadata": {
    "scrolled": true
   },
   "outputs": [
    {
     "name": "stdout",
     "output_type": "stream",
     "text": [
      "Andy got a 88\n",
      "Amy got a 66\n",
      "James got a 90\n",
      "Jules got a 55\n",
      "Arthur got a 77\n",
      "\n",
      "The mean is 75.2\n",
      "The max is 90\n",
      "The min is 55\n",
      "\n",
      "Andy\n",
      "Amy\n",
      "\n",
      "Andy\n",
      "Amy\n",
      "Arthur\n"
     ]
    }
   ],
   "source": [
    "marks = {'Andy': 88, 'Amy': 66, 'James': 90, 'Jules': 55, 'Arthur': 77}\n",
    "for key, values in marks.items():\n",
    "    print(key, 'got a', values)\n",
    "print(   ) #just to seperate the questions\n",
    "all_val=sum(marks.values())\n",
    "mean=all_val/5\n",
    "print('The mean is', mean)\n",
    "max_value = max(marks.values())\n",
    "print('The max is', max_value)\n",
    "min_value = min(marks.values())\n",
    "print('The min is', min_value)\n",
    "print(   ) #just to seperate the questions\n",
    "for key in marks:\n",
    "    if 'J' in key:\n",
    "        break\n",
    "    print(key)\n",
    "print(   ) #just to seperate the questions\n",
    "for key in marks:\n",
    "    if 'J' in key:\n",
    "        continue\n",
    "    print(key)"
   ]
  }
 ],
 "metadata": {
  "kernelspec": {
   "display_name": "Python 3 (ipykernel)",
   "language": "python",
   "name": "python3"
  },
  "language_info": {
   "codemirror_mode": {
    "name": "ipython",
    "version": 3
   },
   "file_extension": ".py",
   "mimetype": "text/x-python",
   "name": "python",
   "nbconvert_exporter": "python",
   "pygments_lexer": "ipython3",
   "version": "3.9.12"
  }
 },
 "nbformat": 4,
 "nbformat_minor": 5
}
